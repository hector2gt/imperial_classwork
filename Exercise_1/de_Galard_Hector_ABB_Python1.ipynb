{
 "cells": [
  {
   "cell_type": "code",
   "execution_count": 7,
   "id": "0863654e",
   "metadata": {},
   "outputs": [
    {
     "ename": "TypeError",
     "evalue": "'float' object is not iterable",
     "output_type": "error",
     "traceback": [
      "\u001b[0;31m---------------------------------------------------------------------------\u001b[0m",
      "\u001b[0;31mTypeError\u001b[0m                                 Traceback (most recent call last)",
      "\u001b[0;32m/tmp/ipykernel_5499/265072493.py\u001b[0m in \u001b[0;36m<module>\u001b[0;34m\u001b[0m\n\u001b[1;32m     33\u001b[0m     \u001b[0;31m# (the sequence, the read, the ID and the scores)\u001b[0m\u001b[0;34m\u001b[0m\u001b[0;34m\u001b[0m\u001b[0;34m\u001b[0m\u001b[0m\n\u001b[1;32m     34\u001b[0m     \u001b[0;32mif\u001b[0m \u001b[0maverage_score1\u001b[0m \u001b[0;34m>=\u001b[0m \u001b[0;36m30\u001b[0m \u001b[0;32mand\u001b[0m \u001b[0maverage_score2\u001b[0m \u001b[0;34m>=\u001b[0m \u001b[0;36m30\u001b[0m\u001b[0;34m:\u001b[0m\u001b[0;34m\u001b[0m\u001b[0;34m\u001b[0m\u001b[0m\n\u001b[0;32m---> 35\u001b[0;31m         \u001b[0mprint\u001b[0m\u001b[0;34m(\u001b[0m\u001b[0msum\u001b[0m\u001b[0;34m(\u001b[0m\u001b[0maverage_score1\u001b[0m \u001b[0;34m+\u001b[0m \u001b[0maverage_score2\u001b[0m\u001b[0;34m)\u001b[0m\u001b[0;34m)\u001b[0m\u001b[0;34m\u001b[0m\u001b[0;34m\u001b[0m\u001b[0m\n\u001b[0m\u001b[1;32m     36\u001b[0m         \u001b[0mfastq_list\u001b[0m \u001b[0;34m=\u001b[0m \u001b[0mlines\u001b[0m\u001b[0;34m[\u001b[0m\u001b[0mi\u001b[0m\u001b[0;34m:\u001b[0m\u001b[0mi\u001b[0m\u001b[0;34m+\u001b[0m\u001b[0;36m8\u001b[0m\u001b[0;34m]\u001b[0m\u001b[0;34m\u001b[0m\u001b[0;34m\u001b[0m\u001b[0m\n\u001b[1;32m     37\u001b[0m         \u001b[0mover\u001b[0m \u001b[0;34m=\u001b[0m \u001b[0mopen\u001b[0m\u001b[0;34m(\u001b[0m\u001b[0;34m'above30.fastq'\u001b[0m\u001b[0;34m,\u001b[0m \u001b[0;34m'a'\u001b[0m\u001b[0;34m)\u001b[0m\u001b[0;34m\u001b[0m\u001b[0;34m\u001b[0m\u001b[0m\n",
      "\u001b[0;31mTypeError\u001b[0m: 'float' object is not iterable"
     ]
    }
   ],
   "source": [
    "# First, we need to open the sample sequence file to read its contents and store them in the list 'lines'\n",
    "with open('seq_sample.fastq') as f_in:\n",
    "    lines = f_in.readlines()\n",
    "    \n",
    "# Next, we create two new files where we will store our sequences that have above 30 score and below 30 score     \n",
    "over = open('above30.fastq', 'x')\n",
    "under = open('under30.fastq', 'x')\n",
    "\n",
    "# We initialize our loop\n",
    "i = 0\n",
    "    \n",
    "# We create a while loop that will run as long as i is smaller than the number of lines present in our list\n",
    "while i < len(lines):\n",
    "\n",
    "    # Since we know that the scores in our fastq file are in the fourth line, we go fetch these scores for\n",
    "    # both forward and backward reads and we strip the \\n which normally denotes a new line\n",
    "    score1 = lines[i+3].strip()\n",
    "    score2 = lines[i+7].strip()\n",
    "    \n",
    "    # We initialize our total scores\n",
    "    total_score1 = 0\n",
    "    total_score2 = 0\n",
    "    \n",
    "    # Then, we create a loop that will sum up the scores from both paired-end reads and find their average\n",
    "    for j in range(len(score1)):\n",
    "        total_score1 += ord(score1[j]) - 64\n",
    "        average_score1 = total_score1/len(score1)\n",
    "        \n",
    "        total_score2 += ord(score2[j]) - 64\n",
    "        average_score2 = total_score2/len(score2)\n",
    "    \n",
    "    # If the average of both scores are above 30, we print the eight lines belonging to those reads in a file called above\n",
    "    # (the sequence, the read, the ID and the scores)\n",
    "    if average_score1 >= 30 and average_score2 >= 30:\n",
    "        print(sum(average_score1 + average_score2))\n",
    "        fastq_list = lines[i:i+8]\n",
    "        over = open('above30.fastq', 'a')\n",
    "        for element in fastq_list:\n",
    "            over.write(element)\n",
    "        over.close()\n",
    "    \n",
    "    # If both scores are not above 30, we print the eight lines to the file called under\n",
    "    else:\n",
    "        fastq_list = lines[i:i+8]\n",
    "        under = open('under30.fastq', 'a')\n",
    "        for element in fastq_list:\n",
    "            under.write(element)\n",
    "        under.close()\n",
    "    \n",
    "    # We update i to read the next paired reads \n",
    "    i = i + 8"
   ]
  },
  {
   "cell_type": "code",
   "execution_count": null,
   "id": "0a950cfd",
   "metadata": {},
   "outputs": [],
   "source": []
  }
 ],
 "metadata": {
  "kernelspec": {
   "display_name": "Python 3 (ipykernel)",
   "language": "python",
   "name": "python3"
  },
  "language_info": {
   "codemirror_mode": {
    "name": "ipython",
    "version": 3
   },
   "file_extension": ".py",
   "mimetype": "text/x-python",
   "name": "python",
   "nbconvert_exporter": "python",
   "pygments_lexer": "ipython3",
   "version": "3.8.12"
  },
  "toc": {
   "base_numbering": 1,
   "nav_menu": {},
   "number_sections": true,
   "sideBar": true,
   "skip_h1_title": false,
   "title_cell": "Table of Contents",
   "title_sidebar": "Contents",
   "toc_cell": false,
   "toc_position": {},
   "toc_section_display": true,
   "toc_window_display": false
  }
 },
 "nbformat": 4,
 "nbformat_minor": 5
}
